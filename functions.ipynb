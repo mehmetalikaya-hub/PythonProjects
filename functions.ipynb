{
 "cells": [
  {
   "cell_type": "markdown",
   "metadata": {},
   "source": [
    "# FUNCTIONS IN PYTHON"
   ]
  },
  {
   "cell_type": "code",
   "execution_count": 1,
   "metadata": {},
   "outputs": [],
   "source": [
    "# Built in functions is good but creating your own functions is awesome."
   ]
  },
  {
   "cell_type": "code",
   "execution_count": 2,
   "metadata": {
    "collapsed": true,
    "jupyter": {
     "outputs_hidden": true
    }
   },
   "outputs": [
    {
     "name": "stdout",
     "output_type": "stream",
     "text": [
      "Help on built-in function print in module builtins:\n",
      "\n",
      "print(...)\n",
      "    print(value, ..., sep=' ', end='\\n', file=sys.stdout, flush=False)\n",
      "    \n",
      "    Prints the values to a stream, or to sys.stdout by default.\n",
      "    Optional keyword arguments:\n",
      "    file:  a file-like object (stream); defaults to the current sys.stdout.\n",
      "    sep:   string inserted between values, default a space.\n",
      "    end:   string appended after the last value, default a newline.\n",
      "    flush: whether to forcibly flush the stream.\n",
      "\n"
     ]
    }
   ],
   "source": [
    "# Getting help from any function\n",
    "\n",
    "help(print)"
   ]
  },
  {
   "cell_type": "code",
   "execution_count": 3,
   "metadata": {},
   "outputs": [
    {
     "name": "stdout",
     "output_type": "stream",
     "text": [
      "Help on built-in function abs in module builtins:\n",
      "\n",
      "abs(x, /)\n",
      "    Return the absolute value of the argument.\n",
      "\n"
     ]
    }
   ],
   "source": [
    "help(abs)"
   ]
  },
  {
   "cell_type": "markdown",
   "metadata": {},
   "source": [
    "# Defining functions"
   ]
  },
  {
   "cell_type": "code",
   "execution_count": 5,
   "metadata": {},
   "outputs": [
    {
     "name": "stdout",
     "output_type": "stream",
     "text": [
      "1\n",
      "3\n",
      "7\n"
     ]
    }
   ],
   "source": [
    "def least_diff(a,b,c):\n",
    "    \n",
    "    diff1 = abs(a-b)\n",
    "    diff2 = abs(a-c)\n",
    "    diff3 = abs(b-c)\n",
    "    return(min(diff1,diff2,diff3))\n",
    "\n",
    "print(least_diff(10,2,3))\n",
    "print(least_diff(0,8,3))\n",
    "print(least_diff(5,25,32))\n"
   ]
  },
  {
   "cell_type": "markdown",
   "metadata": {},
   "source": [
    "# Docstring"
   ]
  },
  {
   "cell_type": "code",
   "execution_count": 16,
   "metadata": {},
   "outputs": [
    {
     "name": "stdout",
     "output_type": "stream",
     "text": [
      "Help on function least_diff in module __main__:\n",
      "\n",
      "least_diff(a, b, c)\n",
      "\n"
     ]
    },
    {
     "data": {
      "text/plain": [
       "' A function that calculates the smallest difference value among a, b, c. \\n >>> least_difference(1, 5, -5)\\n    4\\n'"
      ]
     },
     "execution_count": 16,
     "metadata": {},
     "output_type": "execute_result"
    }
   ],
   "source": [
    "help(least_diff)\n",
    "\"\"\" A function that calculates the smallest difference value among a, b, c. \n",
    " >>> least_difference(1, 5, -5)\n",
    "    4\n",
    "\"\"\""
   ]
  },
  {
   "cell_type": "code",
   "execution_count": 18,
   "metadata": {},
   "outputs": [
    {
     "name": "stdout",
     "output_type": "stream",
     "text": [
      "None\n",
      "None\n",
      "None\n"
     ]
    }
   ],
   "source": [
    "def least_ex(a,b,c):\n",
    "    diff1 = abs(a-b)\n",
    "    diff2 = abs(a-c)\n",
    "    diff3 = abs(b-c)\n",
    "    min(diff1,diff2,diff3)\n",
    "    \n",
    "print(least_ex(10,12,13))\n",
    "print(least_ex(8,12,15))\n",
    "print(least_ex(40,12,23))\n"
   ]
  },
  {
   "cell_type": "code",
   "execution_count": null,
   "metadata": {},
   "outputs": [],
   "source": [
    "# Use return in order to get the right solution. You may use print to observe the mistakes or other things."
   ]
  },
  {
   "cell_type": "code",
   "execution_count": 26,
   "metadata": {},
   "outputs": [
    {
     "name": "stdout",
     "output_type": "stream",
     "text": [
      "Hello, Mehmet\n",
      "Hello, Kaggle\n",
      "Hello, World\n"
     ]
    }
   ],
   "source": [
    "def greet(who = \"Mehmet\"):\n",
    "    print(\"Hello,\", who)\n",
    "greet()  \n",
    "greet(\"Kaggle\")  \n",
    "greet(who = \"World\")"
   ]
  },
  {
   "cell_type": "code",
   "execution_count": 54,
   "metadata": {},
   "outputs": [
    {
     "name": "stdout",
     "output_type": "stream",
     "text": [
      "Highest value: 150 Highest modulo_3: 98\n"
     ]
    }
   ],
   "source": [
    "def modulo_3(x):\n",
    "    return x % 3\n",
    "\n",
    "print(\"Highest value:\", max(142,150,98),\n",
    "     \"Highest modulo_3:\", max(142,150,98, key = modulo_3),\n",
    "     )"
   ]
  },
  {
   "cell_type": "code",
   "execution_count": 1,
   "metadata": {},
   "outputs": [],
   "source": [
    "def exactly_one_topping(ketchup, mustard, onion):\n",
    "    \"\"\"Return whether the customer wants exactly one of the three available toppings\n",
    "    on their hot dog.\n",
    "    \"\"\"\n",
    "    pass\n",
    "    return (int(ketchup)+ int(mustard) + int(onion)) == 1"
   ]
  },
  {
   "cell_type": "code",
   "execution_count": 2,
   "metadata": {},
   "outputs": [],
   "source": [
    "guests = [\"Ahmet\",\"Necdet\",\"Fikret\",\"İlmet\",\"Fazilet\",\"Hatice\"]"
   ]
  },
  {
   "cell_type": "code",
   "execution_count": 19,
   "metadata": {},
   "outputs": [],
   "source": [
    "def get_late_person(arrivals, name):\n",
    "    order = guests.index(name)\n",
    "    return order >= len(guests) / 2 and order != len(guests) - 1"
   ]
  },
  {
   "cell_type": "code",
   "execution_count": 28,
   "metadata": {},
   "outputs": [
    {
     "name": "stdout",
     "output_type": "stream",
     "text": [
      "CART"
     ]
    }
   ],
   "source": [
    "s = \"Circumstances can chAnge in oRder To get ost rom omething\"\n",
    "for char in s:\n",
    "    if char.isupper():\n",
    "        print(char, end = \"\")"
   ]
  },
  {
   "cell_type": "code",
   "execution_count": 29,
   "metadata": {},
   "outputs": [
    {
     "name": "stdout",
     "output_type": "stream",
     "text": [
      "Printing i. 0\n",
      "Printing i. 1\n",
      "Printing i. 2\n",
      "Printing i. 3\n",
      "Printing i. 4\n"
     ]
    }
   ],
   "source": [
    "for i in range(5):\n",
    "    print(\"Printing i.\", i)"
   ]
  },
  {
   "cell_type": "code",
   "execution_count": 33,
   "metadata": {},
   "outputs": [
    {
     "data": {
      "text/plain": [
       "[0, 1, 4, 9, 16, 25, 36, 49, 64, 81]"
      ]
     },
     "execution_count": 33,
     "metadata": {},
     "output_type": "execute_result"
    }
   ],
   "source": [
    "squares = []\n",
    "for i in range(10):\n",
    "    squares.append(i**2)\n",
    "squares    "
   ]
  },
  {
   "cell_type": "code",
   "execution_count": 34,
   "metadata": {},
   "outputs": [],
   "source": [
    "names = [\"Ali\",\"Veli\",\"Seyma\",\"Nesrin\"]"
   ]
  },
  {
   "cell_type": "code",
   "execution_count": 40,
   "metadata": {},
   "outputs": [
    {
     "data": {
      "text/plain": [
       "['ALI!', 'VELI!']"
      ]
     },
     "execution_count": 40,
     "metadata": {},
     "output_type": "execute_result"
    }
   ],
   "source": [
    "f_names = [name.upper() + \"!\" for name in names if len(name) < 5]\n",
    "f_names"
   ]
  },
  {
   "cell_type": "code",
   "execution_count": 41,
   "metadata": {},
   "outputs": [
    {
     "data": {
      "text/plain": [
       "['ALI!', 'VELI!']"
      ]
     },
     "execution_count": 41,
     "metadata": {},
     "output_type": "execute_result"
    }
   ],
   "source": [
    "[\n",
    "    name.upper() + \"!\"\n",
    "    for name in names if len(name)< 5\n",
    "      \n",
    "]"
   ]
  },
  {
   "cell_type": "code",
   "execution_count": 42,
   "metadata": {},
   "outputs": [],
   "source": [
    "numbers = [12,-5,3,0,-4,-2]"
   ]
  },
  {
   "cell_type": "code",
   "execution_count": 45,
   "metadata": {},
   "outputs": [],
   "source": [
    "def negative_counts(numbers):\n",
    "        return len(num for num in numbers if num <0)    "
   ]
  },
  {
   "cell_type": "code",
   "execution_count": 52,
   "metadata": {},
   "outputs": [],
   "source": [
    "def negative_count(numbers):\n",
    "    return sum([num < 0 for num in numbers])"
   ]
  },
  {
   "cell_type": "code",
   "execution_count": 61,
   "metadata": {},
   "outputs": [],
   "source": [
    "nums = [7,17,49,67,71,77]\n",
    "\n",
    "def lucky_numbers (nums):\n",
    "    return any([num % 7 == 0 for num in nums])"
   ]
  }
 ],
 "metadata": {
  "kernelspec": {
   "display_name": "Python 3",
   "language": "python",
   "name": "python3"
  },
  "language_info": {
   "codemirror_mode": {
    "name": "ipython",
    "version": 3
   },
   "file_extension": ".py",
   "mimetype": "text/x-python",
   "name": "python",
   "nbconvert_exporter": "python",
   "pygments_lexer": "ipython3",
   "version": "3.7.6"
  }
 },
 "nbformat": 4,
 "nbformat_minor": 4
}
